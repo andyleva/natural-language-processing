{
 "cells": [
  {
   "cell_type": "markdown",
   "metadata": {},
   "source": [
    "### КУРС \"Введение в обработку естественного языка\""
   ]
  },
  {
   "cell_type": "markdown",
   "metadata": {},
   "source": [
    "### Урок 3. Embedding word2vec fasttext"
   ]
  },
  {
   "cell_type": "markdown",
   "metadata": {},
   "source": [
    "**Задача поиск похожих по эмбеддингам**\n",
    "Скачиваем датасет \n",
    "\n",
    "!wget https://github.com/ods-ai-ml4sg/proj_news_viz/releases/download/data/gazeta.csv.gz\n",
    "\n",
    "```\n",
    "# пример работы с ним \n",
    "from corus import load_ods_gazeta\n",
    "path = 'gazeta.csv.gz'\n",
    "records = load_ods_gazeta(path)\n",
    "next(records)\n",
    "```\n",
    "\n",
    "\n",
    "что надо сделать \n",
    "\n",
    "1. на основе word2vec/fasttext реализовать метод поиска ближайших статей\n",
    "(на вход метода должен приходить запрос (какой-то вопрос) и количество вариантов вывода к примеру 5-ть, ваш метод должен возвращать 5-ть ближайших статей к этому запросу)\n",
    "2. Проверить насколько хорошо работают подходы"
   ]
  },
  {
   "cell_type": "markdown",
   "metadata": {},
   "source": [
    "ссылка не работает, исследовал на датасете с предыдущего урока."
   ]
  },
  {
   "cell_type": "code",
   "execution_count": 1,
   "metadata": {},
   "outputs": [],
   "source": [
    "import pandas as pd\n",
    "import numpy as np\n",
    "import re\n",
    "import matplotlib.pyplot as plt\n",
    "import seaborn as sns\n",
    "import nltk\n",
    "import warnings \n",
    "warnings.filterwarnings(\"ignore\")\n",
    "import os\n",
    "\n",
    "from sklearn import model_selection, preprocessing, linear_model\n",
    "from sklearn.feature_extraction.text import TfidfVectorizer\n",
    "from sklearn.feature_extraction.text import CountVectorizer\n",
    "from sklearn.metrics import accuracy_score\n",
    "from sklearn.decomposition import PCA\n",
    "from sklearn.decomposition import TruncatedSVD"
   ]
  },
  {
   "cell_type": "code",
   "execution_count": 2,
   "metadata": {},
   "outputs": [],
   "source": [
    "#ссылка не открывается. выбрал другой датасет"
   ]
  },
  {
   "cell_type": "code",
   "execution_count": 3,
   "metadata": {},
   "outputs": [
    {
     "data": {
      "text/html": [
       "<div>\n",
       "<style scoped>\n",
       "    .dataframe tbody tr th:only-of-type {\n",
       "        vertical-align: middle;\n",
       "    }\n",
       "\n",
       "    .dataframe tbody tr th {\n",
       "        vertical-align: top;\n",
       "    }\n",
       "\n",
       "    .dataframe thead th {\n",
       "        text-align: right;\n",
       "    }\n",
       "</style>\n",
       "<table border=\"1\" class=\"dataframe\">\n",
       "  <thead>\n",
       "    <tr style=\"text-align: right;\">\n",
       "      <th></th>\n",
       "      <th>id</th>\n",
       "      <th>label</th>\n",
       "      <th>tweet</th>\n",
       "      <th>tweet_txt</th>\n",
       "      <th>tweet_2</th>\n",
       "      <th>tweet_3</th>\n",
       "      <th>tweet_4</th>\n",
       "      <th>tweet_no_one</th>\n",
       "      <th>tweet_token</th>\n",
       "      <th>tweet_token_filtered</th>\n",
       "      <th>tweet_stemmed</th>\n",
       "      <th>tweet_lemmatize</th>\n",
       "    </tr>\n",
       "  </thead>\n",
       "  <tbody>\n",
       "    <tr>\n",
       "      <th>0</th>\n",
       "      <td>1</td>\n",
       "      <td>0.0</td>\n",
       "      <td>@user when a father is dysfunctional and is s...</td>\n",
       "      <td>when a fatheare is dysfyounctional and is s...</td>\n",
       "      <td>when a fatheare is dysfyounctional and is s...</td>\n",
       "      <td>when a fatheare is dysfyounctional and is s...</td>\n",
       "      <td>when a fatheare is dysfyounctional and is s...</td>\n",
       "      <td>when fatheare is dysfyounctional and is so sel...</td>\n",
       "      <td>[when, fatheare, is, dysfyounctional, and, is,...</td>\n",
       "      <td>[fatheare, dysfyounctional, selfish, dareagare...</td>\n",
       "      <td>fathear dysfyounct selfish dareagarein kid dys...</td>\n",
       "      <td>fatheare dysfyounctional selfish dareagareins ...</td>\n",
       "    </tr>\n",
       "    <tr>\n",
       "      <th>1</th>\n",
       "      <td>2</td>\n",
       "      <td>0.0</td>\n",
       "      <td>@user @user thanks for #lyft credit i can't us...</td>\n",
       "      <td>thanks foare #lyft careedit i cannot youse...</td>\n",
       "      <td>thanks foare  lyft careedit i cannot youse...</td>\n",
       "      <td>thanks foare  lyft careedit i cannot youse...</td>\n",
       "      <td>thanks foare  lyft careedit i cannot youse...</td>\n",
       "      <td>thanks foare lyft careedit cannot youse cayous...</td>\n",
       "      <td>[thanks, foare, lyft, careedit, can, not, yous...</td>\n",
       "      <td>[thanks, foare, lyft, careedit, youse, cayouse...</td>\n",
       "      <td>thank foar lyft careedit yous cayous offear wh...</td>\n",
       "      <td>thank foare lyft careedit youse cayouse offear...</td>\n",
       "    </tr>\n",
       "    <tr>\n",
       "      <th>2</th>\n",
       "      <td>3</td>\n",
       "      <td>0.0</td>\n",
       "      <td>bihday your majesty</td>\n",
       "      <td>bihday yoyouare majesty</td>\n",
       "      <td>bihday yoyouare majesty</td>\n",
       "      <td>bihday yoyouare majesty</td>\n",
       "      <td>bihday yoyouare majesty</td>\n",
       "      <td>bihday yoyouare majesty</td>\n",
       "      <td>[bihday, yoyouare, majesty]</td>\n",
       "      <td>[bihday, yoyouare, majesty]</td>\n",
       "      <td>bihday yoyouar majesti</td>\n",
       "      <td>bihday yoyouare majesty</td>\n",
       "    </tr>\n",
       "  </tbody>\n",
       "</table>\n",
       "</div>"
      ],
      "text/plain": [
       "   id  label                                              tweet  \\\n",
       "0   1    0.0   @user when a father is dysfunctional and is s...   \n",
       "1   2    0.0  @user @user thanks for #lyft credit i can't us...   \n",
       "2   3    0.0                                bihday your majesty   \n",
       "\n",
       "                                           tweet_txt  \\\n",
       "0     when a fatheare is dysfyounctional and is s...   \n",
       "1      thanks foare #lyft careedit i cannot youse...   \n",
       "2                            bihday yoyouare majesty   \n",
       "\n",
       "                                             tweet_2  \\\n",
       "0     when a fatheare is dysfyounctional and is s...   \n",
       "1      thanks foare  lyft careedit i cannot youse...   \n",
       "2                            bihday yoyouare majesty   \n",
       "\n",
       "                                             tweet_3  \\\n",
       "0     when a fatheare is dysfyounctional and is s...   \n",
       "1      thanks foare  lyft careedit i cannot youse...   \n",
       "2                            bihday yoyouare majesty   \n",
       "\n",
       "                                             tweet_4  \\\n",
       "0     when a fatheare is dysfyounctional and is s...   \n",
       "1      thanks foare  lyft careedit i cannot youse...   \n",
       "2                            bihday yoyouare majesty   \n",
       "\n",
       "                                        tweet_no_one  \\\n",
       "0  when fatheare is dysfyounctional and is so sel...   \n",
       "1  thanks foare lyft careedit cannot youse cayous...   \n",
       "2                            bihday yoyouare majesty   \n",
       "\n",
       "                                         tweet_token  \\\n",
       "0  [when, fatheare, is, dysfyounctional, and, is,...   \n",
       "1  [thanks, foare, lyft, careedit, can, not, yous...   \n",
       "2                        [bihday, yoyouare, majesty]   \n",
       "\n",
       "                                tweet_token_filtered  \\\n",
       "0  [fatheare, dysfyounctional, selfish, dareagare...   \n",
       "1  [thanks, foare, lyft, careedit, youse, cayouse...   \n",
       "2                        [bihday, yoyouare, majesty]   \n",
       "\n",
       "                                       tweet_stemmed  \\\n",
       "0  fathear dysfyounct selfish dareagarein kid dys...   \n",
       "1  thank foar lyft careedit yous cayous offear wh...   \n",
       "2                             bihday yoyouar majesti   \n",
       "\n",
       "                                     tweet_lemmatize  \n",
       "0  fatheare dysfyounctional selfish dareagareins ...  \n",
       "1  thank foare lyft careedit youse cayouse offear...  \n",
       "2                            bihday yoyouare majesty  "
      ]
     },
     "execution_count": 3,
     "metadata": {},
     "output_type": "execute_result"
    }
   ],
   "source": [
    "df = pd.read_pickle('df_preprocessing')\n",
    "df.head(3)"
   ]
  },
  {
   "cell_type": "markdown",
   "metadata": {},
   "source": [
    "pip install gensim --user"
   ]
  },
  {
   "cell_type": "code",
   "execution_count": 80,
   "metadata": {},
   "outputs": [],
   "source": [
    "from gensim.models import Word2Vec, FastText"
   ]
  },
  {
   "cell_type": "code",
   "execution_count": 11,
   "metadata": {},
   "outputs": [],
   "source": [
    "Word2Vec?"
   ]
  },
  {
   "cell_type": "code",
   "execution_count": 72,
   "metadata": {},
   "outputs": [],
   "source": [
    "model_w2v = Word2Vec(vector_size=200, window=5, min_count=2, sg = 1, hs = 0, negative = 10, workers= 32, seed = 34)"
   ]
  },
  {
   "cell_type": "code",
   "execution_count": 73,
   "metadata": {},
   "outputs": [
    {
     "data": {
      "text/plain": [
       "array([list(['when', 'fatheare', 'is', 'dysfyounctional', 'and', 'is', 'so', 'selfish', 'he', 'dareagareins', 'his', 'kids', 'into', 'his', 'dysfyounction', '.', 'areyoun']),\n",
       "       list(['thanks', 'foare', 'lyft', 'careedit', 'can', 'not', 'youse', 'cayouse', 'they', 'do', 'not', 'offeare', 'wheelchaiare', 'vans', 'in', 'pdx', '.', 'disapointed', 'gareinetthanked']),\n",
       "       list(['bihday', 'yoyouare', 'majesty']), ...,\n",
       "       list(['hillaarey', 'campaigareinned', 'today', 'in', 'ohio', '(', '(', 'oh', 'my', 'godarein', ')', ')', 'amp', 'yoused', 'woareds', 'like', 'assets', 'amp', 'liability', 'neveare', 'once', 'did', 'clinton', 'say', 'thee', '(', 'woared', ')', 'areadI', 'seealization']),\n",
       "       list(['happy', 'at', 'woarek', 'confeareence', 'areigareinht', 'mindset', 'leads', 'to', 'see', 'yoyoultyouaree', 'of', 'development', 'oaregareinanizations', 'woarek', 'mindset']),\n",
       "       list(['my', 'songarein', 'so', 'gareinlad', 'fareee', 'download', 'shoegareinaze', 'newmyousI', 'see', 'newsongarein'])],\n",
       "      dtype=object)"
      ]
     },
     "execution_count": 73,
     "metadata": {},
     "output_type": "execute_result"
    }
   ],
   "source": [
    "df['tweet_token'].values"
   ]
  },
  {
   "cell_type": "code",
   "execution_count": 74,
   "metadata": {},
   "outputs": [],
   "source": [
    "model_w2v.build_vocab(df['tweet_token'])"
   ]
  },
  {
   "cell_type": "code",
   "execution_count": 75,
   "metadata": {},
   "outputs": [
    {
     "data": {
      "text/plain": [
       "(9964836, 12876700)"
      ]
     },
     "execution_count": 75,
     "metadata": {},
     "output_type": "execute_result"
    }
   ],
   "source": [
    "model_w2v.train(df['tweet_token'].values, total_examples=len(df['tweet_token'].values), epochs=20, report_delay=1)"
   ]
  },
  {
   "cell_type": "code",
   "execution_count": 76,
   "metadata": {},
   "outputs": [
    {
     "data": {
      "text/plain": [
       "[('gareinyoung', 0.6252394914627075),\n",
       " ('cayoutioyous', 0.5881091952323914),\n",
       " ('gareinettingareinfitteare', 0.5104039311408997),\n",
       " ('shiless', 0.5055894255638123),\n",
       " ('holman', 0.5049548149108887)]"
      ]
     },
     "execution_count": 76,
     "metadata": {},
     "output_type": "execute_result"
    }
   ],
   "source": [
    "model_w2v.wv.most_similar(positive=['man','woman'], topn=5)"
   ]
  },
  {
   "cell_type": "code",
   "execution_count": 77,
   "metadata": {},
   "outputs": [
    {
     "data": {
      "text/plain": [
       "[('qyoueensbihdaypaareade', 0.7528454661369324),\n",
       " ('qyoueenat', 0.7518107295036316),\n",
       " ('danielle', 0.6829721927642822),\n",
       " ('lovecoarenwall', 0.6792872548103333),\n",
       " ('jyounebaby', 0.6757837533950806)]"
      ]
     },
     "execution_count": 77,
     "metadata": {},
     "output_type": "execute_result"
    }
   ],
   "source": [
    "model_w2v.wv.most_similar(positive=[\"majesty\"], topn=5)"
   ]
  },
  {
   "cell_type": "code",
   "execution_count": 81,
   "metadata": {},
   "outputs": [
    {
     "data": {
      "text/plain": [
       "(10612639, 12876700)"
      ]
     },
     "execution_count": 81,
     "metadata": {},
     "output_type": "execute_result"
    }
   ],
   "source": [
    "modelFT = FastText(vector_size=300, min_count=1, window=5, workers=8)\n",
    "modelFT.build_vocab(df['tweet_token'])\n",
    "modelFT.train(df['tweet_token'].values, total_examples=len(df['tweet_token'].values), epochs=20, report_delay=1)"
   ]
  },
  {
   "cell_type": "code",
   "execution_count": 82,
   "metadata": {},
   "outputs": [
    {
     "data": {
      "text/plain": [
       "[('oman', 0.9624245762825012),\n",
       " ('iman', 0.9578620791435242),\n",
       " ('elfman', 0.9535608887672424),\n",
       " ('awman', 0.9451054334640503),\n",
       " ('koeman', 0.9371521472930908)]"
      ]
     },
     "execution_count": 82,
     "metadata": {},
     "output_type": "execute_result"
    }
   ],
   "source": [
    "modelFT.wv.most_similar(positive=['man','woman'], topn=5)"
   ]
  },
  {
   "cell_type": "code",
   "execution_count": 83,
   "metadata": {},
   "outputs": [
    {
     "data": {
      "text/plain": [
       "[('manajesty', 0.8804560303688049),\n",
       " ('zesty', 0.8194126486778259),\n",
       " ('manifestdestiny', 0.7565854787826538),\n",
       " ('mazzi', 0.7532103061676025),\n",
       " ('machi', 0.7522374987602234)]"
      ]
     },
     "execution_count": 83,
     "metadata": {},
     "output_type": "execute_result"
    }
   ],
   "source": [
    "modelFT.wv.most_similar(positive=[\"majesty\"], topn=5)"
   ]
  },
  {
   "cell_type": "markdown",
   "metadata": {},
   "source": [
    "судя по всему Word2Vec отработал хуже FastText. скорее связано с качеством датасета и качеством очистки текста"
   ]
  }
 ],
 "metadata": {
  "kernelspec": {
   "display_name": "Python 3",
   "language": "python",
   "name": "python3"
  },
  "language_info": {
   "codemirror_mode": {
    "name": "ipython",
    "version": 3
   },
   "file_extension": ".py",
   "mimetype": "text/x-python",
   "name": "python",
   "nbconvert_exporter": "python",
   "pygments_lexer": "ipython3",
   "version": "3.8.3"
  }
 },
 "nbformat": 4,
 "nbformat_minor": 2
}
