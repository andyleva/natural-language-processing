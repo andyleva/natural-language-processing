{
  "nbformat": 4,
  "nbformat_minor": 0,
  "metadata": {
    "colab": {
      "provenance": [],
      "authorship_tag": "ABX9TyNczZ4/cMfZp+R+MPrGSEq3",
      "include_colab_link": true
    },
    "kernelspec": {
      "name": "python3",
      "display_name": "Python 3"
    },
    "language_info": {
      "name": "python"
    }
  },
  "cells": [
    {
      "cell_type": "markdown",
      "metadata": {
        "id": "view-in-github",
        "colab_type": "text"
      },
      "source": [
        "<a href=\"https://colab.research.google.com/github/andyleva/natural-language-processing/blob/lesson05/nlp_hw_lesson_5.ipynb\" target=\"_parent\"><img src=\"https://colab.research.google.com/assets/colab-badge.svg\" alt=\"Open In Colab\"/></a>"
      ]
    },
    {
      "cell_type": "markdown",
      "source": [
        "### КУРС \"Введение в обработку естественного языка\""
      ],
      "metadata": {
        "id": "cn1elZoXhvPW"
      }
    },
    {
      "cell_type": "markdown",
      "source": [
        "дз к уроку «POS-tagger и NER»"
      ],
      "metadata": {
        "id": "u2LyLOIhFIK9"
      }
    },
    {
      "cell_type": "markdown",
      "source": [
        "Задание 1. Написать теггер на данных с русским языком\n",
        "1. проверить UnigramTagger, BigramTagger, TrigramTagger и их комбинации\n",
        "2. написать свой теггер как на занятии, попробовать разные\n",
        "векторайзеры, добавить знание не только букв но и слов\n",
        "3. сравнить все реализованные методы, сделать выводы\n",
        "Задание 2. Проверить, насколько хорошо работает NER\n",
        "Данные брать из http://www.labinform.ru/pub/named_entities/\n",
        "1. проверить NER из nltk/spacy/deeppavlov.\n",
        "2. написать свой NER, попробовать разные подходы.\n",
        "a. передаём в сетку токен и его соседей.\n",
        "b. передаём в сетку только токен.\n",
        "c. свой вариант.\n",
        "3. сравнить свои реализованные подходы на качество — вывести\n",
        "precision/recall/f1_score."
      ],
      "metadata": {
        "id": "WpJAZa9kFIU4"
      }
    },
    {
      "cell_type": "code",
      "source": [
        "pip install pymorphy2"
      ],
      "metadata": {
        "colab": {
          "base_uri": "https://localhost:8080/"
        },
        "id": "_lN5xdtjw5Bl",
        "outputId": "aeae78d7-d21f-4dc7-9a04-48ffe66e9e23"
      },
      "execution_count": null,
      "outputs": [
        {
          "output_type": "stream",
          "name": "stdout",
          "text": [
            "Looking in indexes: https://pypi.org/simple, https://us-python.pkg.dev/colab-wheels/public/simple/\n",
            "Collecting pymorphy2\n",
            "  Downloading pymorphy2-0.9.1-py3-none-any.whl (55 kB)\n",
            "\u001b[K     |████████████████████████████████| 55 kB 2.5 MB/s \n",
            "\u001b[?25hCollecting dawg-python>=0.7.1\n",
            "  Downloading DAWG_Python-0.7.2-py2.py3-none-any.whl (11 kB)\n",
            "Collecting docopt>=0.6\n",
            "  Downloading docopt-0.6.2.tar.gz (25 kB)\n",
            "Collecting pymorphy2-dicts-ru<3.0,>=2.4\n",
            "  Downloading pymorphy2_dicts_ru-2.4.417127.4579844-py2.py3-none-any.whl (8.2 MB)\n",
            "\u001b[K     |████████████████████████████████| 8.2 MB 40.0 MB/s \n",
            "\u001b[?25hBuilding wheels for collected packages: docopt\n",
            "  Building wheel for docopt (setup.py) ... \u001b[?25l\u001b[?25hdone\n",
            "  Created wheel for docopt: filename=docopt-0.6.2-py2.py3-none-any.whl size=13723 sha256=fcabbb088f8b13fe28b237975a6314b19b1c3ff4cf8ad5309c92cb33f83e5314\n",
            "  Stored in directory: /root/.cache/pip/wheels/56/ea/58/ead137b087d9e326852a851351d1debf4ada529b6ac0ec4e8c\n",
            "Successfully built docopt\n",
            "Installing collected packages: pymorphy2-dicts-ru, docopt, dawg-python, pymorphy2\n",
            "Successfully installed dawg-python-0.7.2 docopt-0.6.2 pymorphy2-0.9.1 pymorphy2-dicts-ru-2.4.417127.4579844\n"
          ]
        }
      ]
    },
    {
      "cell_type": "code",
      "source": [
        "pip install pyconll"
      ],
      "metadata": {
        "colab": {
          "base_uri": "https://localhost:8080/"
        },
        "id": "jWRCLsfmw-vZ",
        "outputId": "8330bd73-70d2-4ce4-937b-1f9777aa61db"
      },
      "execution_count": null,
      "outputs": [
        {
          "output_type": "stream",
          "name": "stdout",
          "text": [
            "Looking in indexes: https://pypi.org/simple, https://us-python.pkg.dev/colab-wheels/public/simple/\n",
            "Collecting pyconll\n",
            "  Downloading pyconll-3.1.0-py3-none-any.whl (26 kB)\n",
            "Installing collected packages: pyconll\n",
            "Successfully installed pyconll-3.1.0\n"
          ]
        }
      ]
    },
    {
      "cell_type": "code",
      "source": [
        "\n",
        "import nltk\n",
        "from nltk.tokenize import word_tokenize\n",
        "import matplotlib\n",
        "%matplotlib inline\n",
        "from pymorphy2 import MorphAnalyzer\n",
        "from razdel import tokenize, sentenize\n",
        "import corus\n",
        "from corus import load_rudrec\n",
        "from nltk.corpus import brown\n",
        "from nltk.tag import DefaultTagger\n",
        "from nltk.tag import UnigramTagger\n",
        "from nltk.tag import BigramTagger, TrigramTagger\n",
        "from nltk.tag import RegexpTagger\n",
        "from nltk.tag import SequentialBackoffTagger\n",
        "import warnings\n",
        "warnings.filterwarnings(\"ignore\")\n"
      ],
      "metadata": {
        "id": "MvuI-CJPwqHz"
      },
      "execution_count": null,
      "outputs": []
    },
    {
      "cell_type": "code",
      "source": [
        "import pyconll\n",
        "!wget -O ./ru_syntagrus-ud-train.conllu https://github.com/UniversalDependencies/UD_Russian-SynTagRus/raw/master/ru_syntagrus-ud-train-a.conllu\n",
        "!wget -O ./ru_syntagrus-ud-test.conllu https://github.com/UniversalDependencies/UD_Russian-SynTagRus/raw/master/ru_syntagrus-ud-test.conllu"
      ],
      "metadata": {
        "colab": {
          "base_uri": "https://localhost:8080/"
        },
        "id": "H2TuWb-BwtBI",
        "outputId": "ce26a3ce-e648-45a3-a5bf-4bcdbbb37130"
      },
      "execution_count": null,
      "outputs": [
        {
          "output_type": "stream",
          "name": "stdout",
          "text": [
            "--2022-12-06 18:48:53--  https://github.com/UniversalDependencies/UD_Russian-SynTagRus/raw/master/ru_syntagrus-ud-train-a.conllu\n",
            "Resolving github.com (github.com)... 140.82.113.4\n",
            "Connecting to github.com (github.com)|140.82.113.4|:443... connected.\n",
            "HTTP request sent, awaiting response... 302 Found\n",
            "Location: https://raw.githubusercontent.com/UniversalDependencies/UD_Russian-SynTagRus/master/ru_syntagrus-ud-train-a.conllu [following]\n",
            "--2022-12-06 18:48:53--  https://raw.githubusercontent.com/UniversalDependencies/UD_Russian-SynTagRus/master/ru_syntagrus-ud-train-a.conllu\n",
            "Resolving raw.githubusercontent.com (raw.githubusercontent.com)... 185.199.108.133, 185.199.110.133, 185.199.109.133, ...\n",
            "Connecting to raw.githubusercontent.com (raw.githubusercontent.com)|185.199.108.133|:443... connected.\n",
            "HTTP request sent, awaiting response... 200 OK\n",
            "Length: 40736581 (39M) [text/plain]\n",
            "Saving to: ‘./ru_syntagrus-ud-train.conllu’\n",
            "\n",
            "./ru_syntagrus-ud-t 100%[===================>]  38.85M  --.-KB/s    in 0.1s    \n",
            "\n",
            "2022-12-06 18:48:53 (307 MB/s) - ‘./ru_syntagrus-ud-train.conllu’ saved [40736581/40736581]\n",
            "\n",
            "--2022-12-06 18:48:54--  https://github.com/UniversalDependencies/UD_Russian-SynTagRus/raw/master/ru_syntagrus-ud-test.conllu\n",
            "Resolving github.com (github.com)... 140.82.113.4\n",
            "Connecting to github.com (github.com)|140.82.113.4|:443... connected.\n",
            "HTTP request sent, awaiting response... 302 Found\n",
            "Location: https://raw.githubusercontent.com/UniversalDependencies/UD_Russian-SynTagRus/master/ru_syntagrus-ud-test.conllu [following]\n",
            "--2022-12-06 18:48:54--  https://raw.githubusercontent.com/UniversalDependencies/UD_Russian-SynTagRus/master/ru_syntagrus-ud-test.conllu\n",
            "Resolving raw.githubusercontent.com (raw.githubusercontent.com)... 185.199.108.133, 185.199.109.133, 185.199.110.133, ...\n",
            "Connecting to raw.githubusercontent.com (raw.githubusercontent.com)|185.199.108.133|:443... connected.\n",
            "HTTP request sent, awaiting response... 200 OK\n",
            "Length: 14970950 (14M) [text/plain]\n",
            "Saving to: ‘./ru_syntagrus-ud-test.conllu’\n",
            "\n",
            "./ru_syntagrus-ud-t 100%[===================>]  14.28M  --.-KB/s    in 0.05s   \n",
            "\n",
            "2022-12-06 18:48:54 (276 MB/s) - ‘./ru_syntagrus-ud-test.conllu’ saved [14970950/14970950]\n",
            "\n"
          ]
        }
      ]
    },
    {
      "cell_type": "code",
      "source": [
        "full_train = pyconll.load_from_file('ru_syntagrus-ud-train.conllu')\n",
        "full_test = pyconll.load_from_file('ru_syntagrus-ud-test.conllu')"
      ],
      "metadata": {
        "id": "uj8l4QmTxSl4"
      },
      "execution_count": null,
      "outputs": []
    },
    {
      "cell_type": "code",
      "source": [
        "# view data \n",
        "for sent in full_train[:2]:\n",
        "    for token in sent:\n",
        "        print(token.form, token.upos)"
      ],
      "metadata": {
        "colab": {
          "base_uri": "https://localhost:8080/"
        },
        "id": "ncarpey_xTYN",
        "outputId": "07a39348-9944-49b7-d921-db30d1c90917"
      },
      "execution_count": null,
      "outputs": [
        {
          "output_type": "stream",
          "name": "stdout",
          "text": [
            "Анкета NOUN\n",
            ". PUNCT\n",
            "Начальник NOUN\n",
            "областного ADJ\n",
            "управления NOUN\n",
            "связи NOUN\n",
            "Семен PROPN\n",
            "Еремеевич PROPN\n",
            "был AUX\n",
            "человек NOUN\n",
            "простой ADJ\n",
            ", PUNCT\n",
            "приходил VERB\n",
            "на ADP\n",
            "работу NOUN\n",
            "всегда ADV\n",
            "вовремя ADV\n",
            ", PUNCT\n",
            "здоровался VERB\n",
            "с ADP\n",
            "секретаршей NOUN\n",
            "за ADP\n",
            "руку NOUN\n",
            "и CCONJ\n",
            "иногда ADV\n",
            "даже PART\n",
            "писал VERB\n",
            "в ADP\n",
            "стенгазету NOUN\n",
            "заметки NOUN\n",
            "под ADP\n",
            "псевдонимом NOUN\n",
            "\" PUNCT\n",
            "Муха NOUN\n",
            "\" PUNCT\n",
            ". PUNCT\n"
          ]
        }
      ]
    },
    {
      "cell_type": "code",
      "source": [
        "fdata_train = []\n",
        "for sent in full_train[:]:\n",
        "    fdata_train.append([(token.form, token.upos) for token in sent])\n",
        "    \n",
        "fdata_test = []\n",
        "for sent in full_test[:]:\n",
        "    fdata_test.append([(token.form, token.upos) for token in sent])\n",
        "    \n",
        "fdata_sent_test = []\n",
        "for sent in full_test[:]:\n",
        "    fdata_sent_test.append([token.form for token in sent])"
      ],
      "metadata": {
        "id": "Fmm8VvY2xYcR"
      },
      "execution_count": null,
      "outputs": []
    },
    {
      "cell_type": "code",
      "source": [
        "len(fdata_train), len(fdata_sent_test)"
      ],
      "metadata": {
        "colab": {
          "base_uri": "https://localhost:8080/"
        },
        "id": "9T6wCycZxarv",
        "outputId": "34116c76-4281-415e-b024-e928c3b6f4e1"
      },
      "execution_count": null,
      "outputs": [
        {
          "output_type": "execute_result",
          "data": {
            "text/plain": [
              "(24516, 8800)"
            ]
          },
          "metadata": {},
          "execution_count": 14
        }
      ]
    },
    {
      "cell_type": "code",
      "source": [
        "# see what is data\n",
        "fdata_test[2]"
      ],
      "metadata": {
        "colab": {
          "base_uri": "https://localhost:8080/"
        },
        "id": "haEuXRbCxdFM",
        "outputId": "3eb293b1-0bf4-4027-d861-ebb5edd122df"
      },
      "execution_count": null,
      "outputs": [
        {
          "output_type": "execute_result",
          "data": {
            "text/plain": [
              "[('С', 'ADP'),\n",
              " ('одной', 'NUM'),\n",
              " ('стороны', 'NOUN'),\n",
              " (',', 'PUNCT'),\n",
              " ('квалифицированные', 'VERB'),\n",
              " ('кадры', 'NOUN'),\n",
              " ('и', 'CCONJ'),\n",
              " ('развитая', 'VERB'),\n",
              " ('производственная', 'ADJ'),\n",
              " ('инфраструктура', 'NOUN'),\n",
              " ('резко', 'ADV'),\n",
              " ('отличали', 'VERB'),\n",
              " ('Армению', 'PROPN'),\n",
              " ('от', 'ADP'),\n",
              " ('других', 'ADJ'),\n",
              " ('регионов', 'NOUN'),\n",
              " ('СССР', 'PROPN'),\n",
              " (',', 'PUNCT'),\n",
              " ('где', 'ADV'),\n",
              " ('доминировали', 'VERB'),\n",
              " ('добывающие', 'VERB'),\n",
              " ('отрасли', 'NOUN'),\n",
              " (',', 'PUNCT'),\n",
              " ('а', 'CCONJ'),\n",
              " ('экономика', 'NOUN'),\n",
              " ('строилась', 'VERB'),\n",
              " ('на', 'ADP'),\n",
              " ('поставке', 'NOUN'),\n",
              " ('сырьевых', 'ADJ'),\n",
              " ('ресурсов', 'NOUN'),\n",
              " ('.', 'PUNCT')]"
            ]
          },
          "metadata": {},
          "execution_count": 15
        }
      ]
    },
    {
      "cell_type": "code",
      "source": [
        "# view how tags most valued\n",
        "tags = [sent[0][1] for sent in fdata_train]\n",
        "nltk.FreqDist(tags).most_common()"
      ],
      "metadata": {
        "colab": {
          "base_uri": "https://localhost:8080/"
        },
        "id": "MPrcpuLPxgSY",
        "outputId": "f31103c6-b779-4a55-fec4-fa634ff5e493"
      },
      "execution_count": null,
      "outputs": [
        {
          "output_type": "execute_result",
          "data": {
            "text/plain": [
              "[('ADP', 3831),\n",
              " ('NOUN', 3396),\n",
              " ('ADV', 3356),\n",
              " ('CCONJ', 2652),\n",
              " ('ADJ', 2130),\n",
              " ('PRON', 2108),\n",
              " ('VERB', 1781),\n",
              " ('PUNCT', 1677),\n",
              " ('PART', 862),\n",
              " ('DET', 846),\n",
              " ('SCONJ', 820),\n",
              " ('PROPN', 650),\n",
              " ('NUM', 330),\n",
              " ('AUX', 47),\n",
              " ('INTJ', 21),\n",
              " ('X', 5),\n",
              " (None, 4)]"
            ]
          },
          "metadata": {},
          "execution_count": 16
        }
      ]
    },
    {
      "cell_type": "code",
      "source": [
        "# test DefaultTagger\n",
        "default_tagger = nltk.DefaultTagger('NOUN')\n",
        "display(default_tagger.tag(fdata_sent_test[2]), default_tagger.evaluate(fdata_test))\n"
      ],
      "metadata": {
        "colab": {
          "base_uri": "https://localhost:8080/",
          "height": 573
        },
        "id": "Dc9h_uEaxiyP",
        "outputId": "807aaf04-db19-479e-bc69-750cd1ef030d"
      },
      "execution_count": null,
      "outputs": [
        {
          "output_type": "display_data",
          "data": {
            "text/plain": [
              "[('С', 'NOUN'),\n",
              " ('одной', 'NOUN'),\n",
              " ('стороны', 'NOUN'),\n",
              " (',', 'NOUN'),\n",
              " ('квалифицированные', 'NOUN'),\n",
              " ('кадры', 'NOUN'),\n",
              " ('и', 'NOUN'),\n",
              " ('развитая', 'NOUN'),\n",
              " ('производственная', 'NOUN'),\n",
              " ('инфраструктура', 'NOUN'),\n",
              " ('резко', 'NOUN'),\n",
              " ('отличали', 'NOUN'),\n",
              " ('Армению', 'NOUN'),\n",
              " ('от', 'NOUN'),\n",
              " ('других', 'NOUN'),\n",
              " ('регионов', 'NOUN'),\n",
              " ('СССР', 'NOUN'),\n",
              " (',', 'NOUN'),\n",
              " ('где', 'NOUN'),\n",
              " ('доминировали', 'NOUN'),\n",
              " ('добывающие', 'NOUN'),\n",
              " ('отрасли', 'NOUN'),\n",
              " (',', 'NOUN'),\n",
              " ('а', 'NOUN'),\n",
              " ('экономика', 'NOUN'),\n",
              " ('строилась', 'NOUN'),\n",
              " ('на', 'NOUN'),\n",
              " ('поставке', 'NOUN'),\n",
              " ('сырьевых', 'NOUN'),\n",
              " ('ресурсов', 'NOUN'),\n",
              " ('.', 'NOUN')]"
            ]
          },
          "metadata": {}
        },
        {
          "output_type": "display_data",
          "data": {
            "text/plain": [
              "0.23145915221945831"
            ]
          },
          "metadata": {}
        }
      ]
    },
    {
      "cell_type": "code",
      "source": [
        "# now look at UnigramTagger\n",
        "unigram_tagger = UnigramTagger(fdata_train)\n",
        "display(unigram_tagger.tag(fdata_sent_test[2]), unigram_tagger.evaluate(fdata_test))"
      ],
      "metadata": {
        "colab": {
          "base_uri": "https://localhost:8080/",
          "height": 573
        },
        "id": "o6ICFkV2xmSj",
        "outputId": "e23fce5a-1b3a-42ea-ebaf-e8edbeb61752"
      },
      "execution_count": null,
      "outputs": [
        {
          "output_type": "display_data",
          "data": {
            "text/plain": [
              "[('С', 'ADP'),\n",
              " ('одной', 'NUM'),\n",
              " ('стороны', 'NOUN'),\n",
              " (',', 'PUNCT'),\n",
              " ('квалифицированные', 'ADJ'),\n",
              " ('кадры', 'NOUN'),\n",
              " ('и', 'CCONJ'),\n",
              " ('развитая', 'VERB'),\n",
              " ('производственная', None),\n",
              " ('инфраструктура', 'NOUN'),\n",
              " ('резко', 'ADV'),\n",
              " ('отличали', 'VERB'),\n",
              " ('Армению', None),\n",
              " ('от', 'ADP'),\n",
              " ('других', 'ADJ'),\n",
              " ('регионов', 'NOUN'),\n",
              " ('СССР', 'PROPN'),\n",
              " (',', 'PUNCT'),\n",
              " ('где', 'ADV'),\n",
              " ('доминировали', None),\n",
              " ('добывающие', None),\n",
              " ('отрасли', 'NOUN'),\n",
              " (',', 'PUNCT'),\n",
              " ('а', 'CCONJ'),\n",
              " ('экономика', 'NOUN'),\n",
              " ('строилась', 'VERB'),\n",
              " ('на', 'ADP'),\n",
              " ('поставке', None),\n",
              " ('сырьевых', 'ADJ'),\n",
              " ('ресурсов', 'NOUN'),\n",
              " ('.', 'PUNCT')]"
            ]
          },
          "metadata": {}
        },
        {
          "output_type": "display_data",
          "data": {
            "text/plain": [
              "0.8369316851173183"
            ]
          },
          "metadata": {}
        }
      ]
    },
    {
      "cell_type": "code",
      "source": [
        "# made bigram_tagger on basis unigram_tagger\n",
        "bigram_tagger = BigramTagger(fdata_train, backoff=unigram_tagger)\n",
        "display(bigram_tagger.tag(fdata_sent_test[2]), bigram_tagger.evaluate(fdata_test))"
      ],
      "metadata": {
        "colab": {
          "base_uri": "https://localhost:8080/",
          "height": 573
        },
        "id": "yb0e_YkExois",
        "outputId": "94ed1edf-a254-4908-fe51-8511f81c00ad"
      },
      "execution_count": null,
      "outputs": [
        {
          "output_type": "display_data",
          "data": {
            "text/plain": [
              "[('С', 'ADP'),\n",
              " ('одной', 'NUM'),\n",
              " ('стороны', 'NOUN'),\n",
              " (',', 'PUNCT'),\n",
              " ('квалифицированные', 'ADJ'),\n",
              " ('кадры', 'NOUN'),\n",
              " ('и', 'CCONJ'),\n",
              " ('развитая', 'VERB'),\n",
              " ('производственная', None),\n",
              " ('инфраструктура', 'NOUN'),\n",
              " ('резко', 'ADV'),\n",
              " ('отличали', 'VERB'),\n",
              " ('Армению', None),\n",
              " ('от', 'ADP'),\n",
              " ('других', 'ADJ'),\n",
              " ('регионов', 'NOUN'),\n",
              " ('СССР', 'PROPN'),\n",
              " (',', 'PUNCT'),\n",
              " ('где', 'ADV'),\n",
              " ('доминировали', None),\n",
              " ('добывающие', None),\n",
              " ('отрасли', 'NOUN'),\n",
              " (',', 'PUNCT'),\n",
              " ('а', 'CCONJ'),\n",
              " ('экономика', 'NOUN'),\n",
              " ('строилась', 'VERB'),\n",
              " ('на', 'ADP'),\n",
              " ('поставке', None),\n",
              " ('сырьевых', 'ADJ'),\n",
              " ('ресурсов', 'NOUN'),\n",
              " ('.', 'PUNCT')]"
            ]
          },
          "metadata": {}
        },
        {
          "output_type": "display_data",
          "data": {
            "text/plain": [
              "0.8419889992341238"
            ]
          },
          "metadata": {}
        }
      ]
    },
    {
      "cell_type": "code",
      "source": [
        "# build trigram_tagger on basis unigramm_tagger\n",
        "trigram_tagger_unigram = TrigramTagger(fdata_train, backoff=unigram_tagger)\n",
        "display(trigram_tagger_unigram.tag(fdata_sent_test[2]), trigram_tagger_unigram.evaluate(fdata_train))"
      ],
      "metadata": {
        "colab": {
          "base_uri": "https://localhost:8080/",
          "height": 573
        },
        "id": "PswWw1QFxrIu",
        "outputId": "b64c4168-6f7d-444a-aef0-1be1c046650e"
      },
      "execution_count": null,
      "outputs": [
        {
          "output_type": "display_data",
          "data": {
            "text/plain": [
              "[('С', 'ADP'),\n",
              " ('одной', 'NUM'),\n",
              " ('стороны', 'NOUN'),\n",
              " (',', 'PUNCT'),\n",
              " ('квалифицированные', 'ADJ'),\n",
              " ('кадры', 'NOUN'),\n",
              " ('и', 'CCONJ'),\n",
              " ('развитая', 'VERB'),\n",
              " ('производственная', None),\n",
              " ('инфраструктура', 'NOUN'),\n",
              " ('резко', 'ADV'),\n",
              " ('отличали', 'VERB'),\n",
              " ('Армению', None),\n",
              " ('от', 'ADP'),\n",
              " ('других', 'ADJ'),\n",
              " ('регионов', 'NOUN'),\n",
              " ('СССР', 'PROPN'),\n",
              " (',', 'PUNCT'),\n",
              " ('где', 'ADV'),\n",
              " ('доминировали', None),\n",
              " ('добывающие', None),\n",
              " ('отрасли', 'NOUN'),\n",
              " (',', 'PUNCT'),\n",
              " ('а', 'CCONJ'),\n",
              " ('экономика', 'NOUN'),\n",
              " ('строилась', 'VERB'),\n",
              " ('на', 'ADP'),\n",
              " ('поставке', None),\n",
              " ('сырьевых', 'ADJ'),\n",
              " ('ресурсов', 'NOUN'),\n",
              " ('.', 'PUNCT')]"
            ]
          },
          "metadata": {}
        },
        {
          "output_type": "display_data",
          "data": {
            "text/plain": [
              "0.9848093068219681"
            ]
          },
          "metadata": {}
        }
      ]
    },
    {
      "cell_type": "code",
      "source": [
        "# build trigram_tagger on basis bigramm_tagger\n",
        "trigram_tagger_unigram = TrigramTagger(fdata_train, backoff=bigram_tagger)\n",
        "display(trigram_tagger_unigram.tag(fdata_sent_test[2]), trigram_tagger_unigram.evaluate(fdata_train))"
      ],
      "metadata": {
        "colab": {
          "base_uri": "https://localhost:8080/",
          "height": 573
        },
        "id": "Ss6bIc1KxtI4",
        "outputId": "b6c42d55-ce7a-45f4-9d03-8f3fee0145c4"
      },
      "execution_count": null,
      "outputs": [
        {
          "output_type": "display_data",
          "data": {
            "text/plain": [
              "[('С', 'ADP'),\n",
              " ('одной', 'NUM'),\n",
              " ('стороны', 'NOUN'),\n",
              " (',', 'PUNCT'),\n",
              " ('квалифицированные', 'ADJ'),\n",
              " ('кадры', 'NOUN'),\n",
              " ('и', 'CCONJ'),\n",
              " ('развитая', 'VERB'),\n",
              " ('производственная', None),\n",
              " ('инфраструктура', 'NOUN'),\n",
              " ('резко', 'ADV'),\n",
              " ('отличали', 'VERB'),\n",
              " ('Армению', None),\n",
              " ('от', 'ADP'),\n",
              " ('других', 'ADJ'),\n",
              " ('регионов', 'NOUN'),\n",
              " ('СССР', 'PROPN'),\n",
              " (',', 'PUNCT'),\n",
              " ('где', 'ADV'),\n",
              " ('доминировали', None),\n",
              " ('добывающие', None),\n",
              " ('отрасли', 'NOUN'),\n",
              " (',', 'PUNCT'),\n",
              " ('а', 'CCONJ'),\n",
              " ('экономика', 'NOUN'),\n",
              " ('строилась', 'VERB'),\n",
              " ('на', 'ADP'),\n",
              " ('поставке', None),\n",
              " ('сырьевых', 'ADJ'),\n",
              " ('ресурсов', 'NOUN'),\n",
              " ('.', 'PUNCT')]"
            ]
          },
          "metadata": {}
        },
        {
          "output_type": "display_data",
          "data": {
            "text/plain": [
              "0.984957130990985"
            ]
          },
          "metadata": {}
        }
      ]
    },
    {
      "cell_type": "markdown",
      "source": [
        "комбинация разных taggers"
      ],
      "metadata": {
        "id": "CQoWpmvYxwDj"
      }
    },
    {
      "cell_type": "code",
      "source": [
        "def combine_tagger(train_data, tagger_class, backoff=None):\n",
        "    for cls in tagger_class:\n",
        "        backoff = cls(train_data, backoff = backoff)\n",
        "    \n",
        "    return backoff\n",
        "\n",
        "backoff = DefaultTagger('NOUN')\n",
        "tagger = combine_tagger(fdata_train, [UnigramTagger, BigramTagger, TrigramTagger], backoff = backoff)\n",
        "tagger.evaluate(fdata_test)"
      ],
      "metadata": {
        "colab": {
          "base_uri": "https://localhost:8080/"
        },
        "id": "UOUhl2KzxzKm",
        "outputId": "401d7172-209a-4541-96d8-d6c32e8c2127"
      },
      "execution_count": null,
      "outputs": [
        {
          "output_type": "execute_result",
          "data": {
            "text/plain": [
              "0.8893720448892012"
            ]
          },
          "metadata": {},
          "execution_count": 22
        }
      ]
    },
    {
      "cell_type": "markdown",
      "source": [
        "свой собственный тэггер"
      ],
      "metadata": {
        "id": "XnxqDRWAx3it"
      }
    },
    {
      "cell_type": "code",
      "source": [
        "propn = []\n",
        "morph = MorphAnalyzer()\n",
        "\n",
        "for sent in fdata_train:    \n",
        "    for word in sent:\n",
        "        if word[1] == 'PROPN':\n",
        "            new_propn = morph.normal_forms(word[0].lower())[0]\n",
        "            if new_propn not in propn:\n",
        "                propn.append(new_propn)\n",
        "propn[:5]"
      ],
      "metadata": {
        "colab": {
          "base_uri": "https://localhost:8080/"
        },
        "id": "pHoCg5TEx45A",
        "outputId": "543149b3-4ffc-4990-fa70-57ece8c793ba"
      },
      "execution_count": null,
      "outputs": [
        {
          "output_type": "execute_result",
          "data": {
            "text/plain": [
              "['семён', 'еремеевич', 'семя', 'ефимов', 'москва']"
            ]
          },
          "metadata": {},
          "execution_count": 23
        }
      ]
    },
    {
      "cell_type": "code",
      "source": [
        "class CustomTagger(SequentialBackoffTagger):\n",
        "    def __init__(self, *arg, **kwargs):\n",
        "        SequentialBackoffTagger.__init__(self, *arg, **kwargs)\n",
        "        self.tags_set = set([n for n in propn])\n",
        "        \n",
        "    def choose_tag(self, tokens, index, history):\n",
        "        word = tokens[index]\n",
        "        if word.lower() in self.tags_set:\n",
        "            return 'TARGET'\n",
        "        else:\n",
        "            return None"
      ],
      "metadata": {
        "id": "eG_OB_Y1yAb4"
      },
      "execution_count": null,
      "outputs": []
    },
    {
      "cell_type": "markdown",
      "source": [
        "Работа с NER"
      ],
      "metadata": {
        "id": "aKqmN6oFyGux"
      }
    },
    {
      "cell_type": "code",
      "source": [
        "#test_article = [line for line in file()]\n",
        "test_article = \"\"\n",
        "\n",
        "with open('./sample_data/last_72.txt') as file:\n",
        "    test_article = [line for line in file]\n",
        "test_article = '\\n'.join(test_article)\n",
        "test_article = test_article.replace('\\n','')\n",
        "test_article = test_article.replace('Людмила', 'Людмила Хохрякова')\n",
        "test_article"
      ],
      "metadata": {
        "colab": {
          "base_uri": "https://localhost:8080/",
          "height": 87
        },
        "id": "ytAmBXyLyFtE",
        "outputId": "b5103644-5b73-4910-af47-16323a461be2"
      },
      "execution_count": null,
      "outputs": [
        {
          "output_type": "execute_result",
          "data": {
            "text/plain": [
              "'На Ставрополье создан Общественный совет при МинэкономразвитияПри министерстве экономического развития Ставропольского края в рамках проекта \"открытое правительство\" создан Общественный совет, сообщили корреспонденту ИА REGNUM в пресс-службе краевого Минэкономразвития 23 июля.Как отметила на организационном заседании совета первый заместитель министра Людмила Хохрякова Хохрякова, Общественный совет должен будет решать задачи создания общественно-государственного партнерства, взаимодействия власти и общества.\"Нам бы хотелось услышать от вас конкретные предложения по улучшению социально-экономического развития края, по фактическому применению в деятельности министерства современных научных разработок для повышения эффективности и достижения ряда экономических показателей; рекомендации по осуществлению и корректировке государственной политики в сфере развития инвестиционной и инновационной деятельности, малого и среднего предпринимательства, снижению административных барьеров\", - отметила Хохрякова.Руководителем совета назначен проректор по стратегическому развитию Ставропольской государственной медицинской академии Николай Иванов. Его заместителями стали декан экономического факультета Ставропольского государственного аграрного университета Ольга Кусакина и заместитель председателя Совета потребительского общества \"Ставропольские парки культуры и отдыха\" Михаил Зверев. В рамках заседания был утверждён регламент этого вновь созданного органа.'"
            ],
            "application/vnd.google.colaboratory.intrinsic+json": {
              "type": "string"
            }
          },
          "metadata": {},
          "execution_count": 30
        }
      ]
    },
    {
      "cell_type": "code",
      "source": [
        "nltk.download('maxent_ne_chunker')\n",
        "nltk.download('words')"
      ],
      "metadata": {
        "id": "kY28qvW1yPSF",
        "colab": {
          "base_uri": "https://localhost:8080/"
        },
        "outputId": "a77f7146-8a60-425c-8f26-88a2001fe70d"
      },
      "execution_count": null,
      "outputs": [
        {
          "output_type": "stream",
          "name": "stderr",
          "text": [
            "[nltk_data] Downloading package maxent_ne_chunker to\n",
            "[nltk_data]     /root/nltk_data...\n",
            "[nltk_data]   Package maxent_ne_chunker is already up-to-date!\n",
            "[nltk_data] Downloading package words to /root/nltk_data...\n",
            "[nltk_data]   Package words is already up-to-date!\n"
          ]
        },
        {
          "output_type": "execute_result",
          "data": {
            "text/plain": [
              "True"
            ]
          },
          "metadata": {},
          "execution_count": 33
        }
      ]
    },
    {
      "cell_type": "code",
      "source": [
        "nltk.download('punkt')"
      ],
      "metadata": {
        "colab": {
          "base_uri": "https://localhost:8080/"
        },
        "id": "6sWuR4DW2ifA",
        "outputId": "171fe4cd-543c-4406-908b-559a503b105f"
      },
      "execution_count": null,
      "outputs": [
        {
          "output_type": "stream",
          "name": "stderr",
          "text": [
            "[nltk_data] Downloading package punkt to /root/nltk_data...\n",
            "[nltk_data]   Unzipping tokenizers/punkt.zip.\n"
          ]
        },
        {
          "output_type": "execute_result",
          "data": {
            "text/plain": [
              "True"
            ]
          },
          "metadata": {},
          "execution_count": 37
        }
      ]
    },
    {
      "cell_type": "code",
      "source": [
        "nltk.download('averaged_perceptron_tagger')"
      ],
      "metadata": {
        "colab": {
          "base_uri": "https://localhost:8080/"
        },
        "id": "wCrRr-XD2mw2",
        "outputId": "2bed4b69-b0af-4390-f1b7-ee69b46be425"
      },
      "execution_count": null,
      "outputs": [
        {
          "output_type": "stream",
          "name": "stderr",
          "text": [
            "[nltk_data] Downloading package averaged_perceptron_tagger to\n",
            "[nltk_data]     /root/nltk_data...\n",
            "[nltk_data]   Unzipping taggers/averaged_perceptron_tagger.zip.\n"
          ]
        },
        {
          "output_type": "execute_result",
          "data": {
            "text/plain": [
              "True"
            ]
          },
          "metadata": {},
          "execution_count": 39
        }
      ]
    },
    {
      "cell_type": "code",
      "source": [
        "{(' '.join(c[0] for c in chunk), chunk.label() ) for chunk in nltk.ne_chunk(nltk.pos_tag(nltk.word_tokenize(test_article))) if hasattr(chunk, 'label') }"
      ],
      "metadata": {
        "id": "uS81_bdtxvRI",
        "colab": {
          "base_uri": "https://localhost:8080/"
        },
        "outputId": "4e13ba66-20b7-41a4-d9a1-78a5917eb4b9"
      },
      "execution_count": null,
      "outputs": [
        {
          "output_type": "execute_result",
          "data": {
            "text/plain": [
              "{('Людмила Хохрякова Хохрякова', 'PERSON'),\n",
              " ('Михаил Зверев', 'PERSON'),\n",
              " ('Николай Иванов', 'PERSON'),\n",
              " ('Общественный', 'PERSON'),\n",
              " ('Совета', 'PERSON'),\n",
              " ('Ставропольские', 'PERSON')}"
            ]
          },
          "metadata": {},
          "execution_count": 40
        }
      ]
    },
    {
      "cell_type": "code",
      "source": [
        "pip install ipymarkup"
      ],
      "metadata": {
        "colab": {
          "base_uri": "https://localhost:8080/"
        },
        "id": "vwYRVxK52qkj",
        "outputId": "56e29362-e608-4b05-b2e4-0a56ae346ba1"
      },
      "execution_count": null,
      "outputs": [
        {
          "output_type": "stream",
          "name": "stdout",
          "text": [
            "Looking in indexes: https://pypi.org/simple, https://us-python.pkg.dev/colab-wheels/public/simple/\n",
            "Collecting ipymarkup\n",
            "  Downloading ipymarkup-0.9.0-py3-none-any.whl (14 kB)\n",
            "Collecting intervaltree>=3\n",
            "  Downloading intervaltree-3.1.0.tar.gz (32 kB)\n",
            "Requirement already satisfied: sortedcontainers<3.0,>=2.0 in /usr/local/lib/python3.8/dist-packages (from intervaltree>=3->ipymarkup) (2.4.0)\n",
            "Building wheels for collected packages: intervaltree\n",
            "  Building wheel for intervaltree (setup.py) ... \u001b[?25l\u001b[?25hdone\n",
            "  Created wheel for intervaltree: filename=intervaltree-3.1.0-py2.py3-none-any.whl size=26118 sha256=0599322a6c4015614201b8e483e2cc0a17a4707a0788ca380a9e0861fb15da1d\n",
            "  Stored in directory: /root/.cache/pip/wheels/45/23/de/5789a92962483fd33cb06674792b9697c1b3766d7c7742830e\n",
            "Successfully built intervaltree\n",
            "Installing collected packages: intervaltree, ipymarkup\n",
            "  Attempting uninstall: intervaltree\n",
            "    Found existing installation: intervaltree 2.1.0\n",
            "    Uninstalling intervaltree-2.1.0:\n",
            "      Successfully uninstalled intervaltree-2.1.0\n",
            "Successfully installed intervaltree-3.1.0 ipymarkup-0.9.0\n"
          ]
        }
      ]
    },
    {
      "cell_type": "code",
      "source": [
        "!wget https://storage.yandexcloud.net/natasha-navec/packs/navec_hudlit_v1_12B_500K_300d_100q.tar"
      ],
      "metadata": {
        "colab": {
          "base_uri": "https://localhost:8080/"
        },
        "id": "MfoF6WIf3yva",
        "outputId": "b8f8d4df-29ac-4d01-9b51-0f4b7a67e0ee"
      },
      "execution_count": null,
      "outputs": [
        {
          "output_type": "stream",
          "name": "stdout",
          "text": [
            "--2022-12-06 19:18:04--  https://storage.yandexcloud.net/natasha-navec/packs/navec_hudlit_v1_12B_500K_300d_100q.tar\n",
            "Resolving storage.yandexcloud.net (storage.yandexcloud.net)... 213.180.193.243, 2a02:6b8::1d9\n",
            "Connecting to storage.yandexcloud.net (storage.yandexcloud.net)|213.180.193.243|:443... connected.\n",
            "HTTP request sent, awaiting response... 200 OK\n",
            "Length: 53012480 (51M) [application/x-tar]\n",
            "Saving to: ‘navec_hudlit_v1_12B_500K_300d_100q.tar’\n",
            "\n",
            "navec_hudlit_v1_12B 100%[===================>]  50.56M  18.4MB/s    in 2.7s    \n",
            "\n",
            "2022-12-06 19:18:07 (18.4 MB/s) - ‘navec_hudlit_v1_12B_500K_300d_100q.tar’ saved [53012480/53012480]\n",
            "\n"
          ]
        }
      ]
    },
    {
      "cell_type": "code",
      "source": [
        "!wget https://storage.yandexcloud.net/natasha-slovnet/packs/slovnet_ner_news_v1.tar"
      ],
      "metadata": {
        "colab": {
          "base_uri": "https://localhost:8080/"
        },
        "id": "28-WkFed395R",
        "outputId": "f3c1624d-821a-4f99-baa5-f15b4e02257a"
      },
      "execution_count": null,
      "outputs": [
        {
          "output_type": "stream",
          "name": "stdout",
          "text": [
            "--2022-12-06 19:22:55--  https://storage.yandexcloud.net/natasha-slovnet/packs/slovnet_ner_news_v1.tar\n",
            "Resolving storage.yandexcloud.net (storage.yandexcloud.net)... 213.180.193.243, 2a02:6b8::1d9\n",
            "Connecting to storage.yandexcloud.net (storage.yandexcloud.net)|213.180.193.243|:443... connected.\n",
            "HTTP request sent, awaiting response... 200 OK\n",
            "Length: 2385920 (2.3M) [application/octet-stream]\n",
            "Saving to: ‘slovnet_ner_news_v1.tar’\n",
            "\n",
            "slovnet_ner_news_v1 100%[===================>]   2.28M  2.91MB/s    in 0.8s    \n",
            "\n",
            "2022-12-06 19:22:57 (2.91 MB/s) - ‘slovnet_ner_news_v1.tar’ saved [2385920/2385920]\n",
            "\n"
          ]
        }
      ]
    },
    {
      "cell_type": "code",
      "source": [
        "from navec import Navec\n",
        "from slovnet import NER, Syntax\n",
        "from ipymarkup import show_span_ascii_markup as show_markup\n",
        "from razdel import sentenize, tokenize\n",
        "\n",
        "navec = Navec.load('navec_news_v1_1B_250K_300d_100q.tar')\n",
        "ner = NER.load('slovnet_ner_news_v1.tar')\n",
        "ner.navec(navec)\n",
        "markup = ner(test_article)\n",
        "show_markup(markup.text, markup.spans)"
      ],
      "metadata": {
        "colab": {
          "base_uri": "https://localhost:8080/"
        },
        "id": "eItKEoLx2Ywu",
        "outputId": "b95bee66-ee72-4d5f-f2d0-5b12c024faef"
      },
      "execution_count": null,
      "outputs": [
        {
          "output_type": "stream",
          "name": "stdout",
          "text": [
            "На Ставрополье создан Общественный совет при МинэкономразвитияПри \n",
            "   LOC────────        ORG───────────────     ORG───────────────── \n",
            "министерстве экономического развития Ставропольского края в рамках \n",
            "                                     LOC─────────────────          \n",
            "проекта \"открытое правительство\" создан Общественный совет, сообщили \n",
            "                                        ORG───────────────           \n",
            "корреспонденту ИА REGNUM в пресс-службе краевого Минэкономразвития 23 \n",
            "               ORG──────                         ORG──────────────    \n",
            "июля.Как отметила на организационном заседании совета первый \n",
            "заместитель министра Людмила Хохрякова Хохрякова, Общественный совет \n",
            "                     PER────────────────────────  ORG─────────────── \n",
            "должен будет решать задачи создания общественно-государственного \n",
            "партнерства, взаимодействия власти и общества.\"Нам бы хотелось \n",
            "услышать от вас конкретные предложения по улучшению социально-\n",
            "экономического развития края, по фактическому применению в \n",
            "деятельности министерства современных научных разработок для повышения\n",
            " эффективности и достижения ряда экономических показателей; \n",
            "рекомендации по осуществлению и корректировке государственной политики\n",
            " в сфере развития инвестиционной и инновационной деятельности, малого \n",
            "и среднего предпринимательства, снижению административных барьеров\", -\n",
            " отметила Хохрякова.Руководителем совета назначен проректор по \n",
            "          PER──────                                            \n",
            "стратегическому развитию Ставропольской государственной медицинской \n",
            "                         ORG────────────────────────────────────────\n",
            "академии Николай Иванов. Его заместителями стали декан экономического \n",
            "──────── PER───────────                                               \n",
            "факультета Ставропольского государственного аграрного университета \n",
            "           ORG──────────────────────────────────────────────────── \n",
            "Ольга Кусакина и заместитель председателя Совета потребительского \n",
            "PER───────────                            ORG─────────────────────\n",
            "общества \"Ставропольские парки культуры и отдыха\" Михаил Зверев. В \n",
            "───────────────────────────────────────           PER──────────    \n",
            "рамках заседания был утверждён регламент этого вновь созданного \n",
            "органа.\n"
          ]
        }
      ]
    },
    {
      "cell_type": "code",
      "source": [
        "pip install natasha"
      ],
      "metadata": {
        "colab": {
          "base_uri": "https://localhost:8080/"
        },
        "id": "RnciBkfK5LCx",
        "outputId": "a002d7b6-093c-4018-eca1-45e4bbb68bc5"
      },
      "execution_count": null,
      "outputs": [
        {
          "output_type": "stream",
          "name": "stdout",
          "text": [
            "Looking in indexes: https://pypi.org/simple, https://us-python.pkg.dev/colab-wheels/public/simple/\n",
            "Collecting natasha\n",
            "  Downloading natasha-1.4.0-py3-none-any.whl (34.4 MB)\n",
            "\u001b[K     |████████████████████████████████| 34.4 MB 74 kB/s \n",
            "\u001b[?25hRequirement already satisfied: navec>=0.9.0 in /usr/local/lib/python3.8/dist-packages (from natasha) (0.10.0)\n",
            "Requirement already satisfied: slovnet>=0.3.0 in /usr/local/lib/python3.8/dist-packages (from natasha) (0.5.0)\n",
            "Requirement already satisfied: razdel>=0.5.0 in /usr/local/lib/python3.8/dist-packages (from natasha) (0.5.0)\n",
            "Requirement already satisfied: ipymarkup>=0.8.0 in /usr/local/lib/python3.8/dist-packages (from natasha) (0.9.0)\n",
            "Requirement already satisfied: pymorphy2 in /usr/local/lib/python3.8/dist-packages (from natasha) (0.9.1)\n",
            "Collecting yargy>=0.14.0\n",
            "  Downloading yargy-0.15.0-py3-none-any.whl (41 kB)\n",
            "\u001b[K     |████████████████████████████████| 41 kB 114 kB/s \n",
            "\u001b[?25hRequirement already satisfied: intervaltree>=3 in /usr/local/lib/python3.8/dist-packages (from ipymarkup>=0.8.0->natasha) (3.1.0)\n",
            "Requirement already satisfied: sortedcontainers<3.0,>=2.0 in /usr/local/lib/python3.8/dist-packages (from intervaltree>=3->ipymarkup>=0.8.0->natasha) (2.4.0)\n",
            "Requirement already satisfied: numpy in /usr/local/lib/python3.8/dist-packages (from navec>=0.9.0->natasha) (1.21.6)\n",
            "Requirement already satisfied: pymorphy2-dicts-ru<3.0,>=2.4 in /usr/local/lib/python3.8/dist-packages (from pymorphy2->natasha) (2.4.417127.4579844)\n",
            "Requirement already satisfied: dawg-python>=0.7.1 in /usr/local/lib/python3.8/dist-packages (from pymorphy2->natasha) (0.7.2)\n",
            "Requirement already satisfied: docopt>=0.6 in /usr/local/lib/python3.8/dist-packages (from pymorphy2->natasha) (0.6.2)\n",
            "Installing collected packages: yargy, natasha\n",
            "Successfully installed natasha-1.4.0 yargy-0.15.0\n"
          ]
        }
      ]
    },
    {
      "cell_type": "code",
      "source": [
        "from natasha import (\n",
        "    Segmenter,\n",
        "    MorphVocab,\n",
        "    \n",
        "    NewsEmbedding,\n",
        "    NewsMorphTagger,\n",
        "    NewsSyntaxParser,\n",
        "    NewsNERTagger,\n",
        "    \n",
        "    PER,\n",
        "    NamesExtractor,\n",
        "\n",
        "    Doc\n",
        ")\n",
        "\n",
        "segmenter = Segmenter()\n",
        "morph_vocab = MorphVocab()\n",
        "\n",
        "emb = NewsEmbedding()\n",
        "morph_tagger = NewsMorphTagger(emb)\n",
        "syntax_parser = NewsSyntaxParser(emb)\n",
        "ner_tagger = NewsNERTagger(emb)\n",
        "\n",
        "names_extractor = NamesExtractor(morph_vocab)\n",
        "\n",
        "doc = Doc(test_article)\n",
        "doc.segment(segmenter)\n",
        "doc.tag_morph(morph_tagger)\n",
        "doc.parse_syntax(syntax_parser)\n"
      ],
      "metadata": {
        "id": "5clieYax5IjU"
      },
      "execution_count": null,
      "outputs": []
    },
    {
      "cell_type": "code",
      "source": [
        "doc.sents[1].syntax.print()"
      ],
      "metadata": {
        "colab": {
          "base_uri": "https://localhost:8080/"
        },
        "id": "5KZGsR9E5TJ3",
        "outputId": "35aa9528-b467-4260-a496-de87e94e620e"
      },
      "execution_count": null,
      "outputs": [
        {
          "output_type": "stream",
          "name": "stdout",
          "text": [
            "                ┌► Его              nmod\n",
            "              ┌►└─ заместителями    xcomp\n",
            "┌─────────────└─┌─ стали            \n",
            "│     ┌─┌─────┌─└► декан            nsubj\n",
            "│     │ │     │ ┌► экономического   amod\n",
            "│   ┌─│ │ ┌───└►└─ факультета       nmod\n",
            "│   │ │ │ │ ┌────► Ставропольского  amod\n",
            "│   │ │ │ │ │ ┌──► государственного amod\n",
            "│   │ │ │ │ │ │ ┌► аграрного        amod\n",
            "│   │ │ │ └►└─└─└─ университета     nmod\n",
            "│   │ │ └──────►┌─ Ольга            appos\n",
            "│   │ │         └► Кусакина         flat:name\n",
            "│   │ │         ┌► и                cc\n",
            "│ ┌─│ └──────►┌─└─ заместитель      conj\n",
            "│ │ │         └►┌─ председателя     nmod\n",
            "│ │ │           └► Совета           nmod\n",
            "│ │ │           ┌► потребительского amod\n",
            "│ │ └──────►┌───└─ общества         nmod\n",
            "│ │         │ ┌──► \"                punct\n",
            "│ │         │ │ ┌► Ставропольские   amod\n",
            "│ │       ┌─└►└─└─ парки            appos\n",
            "│ │       │ ┌─└──► культуры         nmod\n",
            "│ │       │ │   ┌► и                cc\n",
            "│ │       │ └──►└─ отдыха           conj\n",
            "│ │       └──────► \"                punct\n",
            "│ └────────────►┌─ Михаил           appos\n",
            "│               └► Зверев           flat:name\n",
            "└────────────────► .                punct\n"
          ]
        }
      ]
    }
  ]
}